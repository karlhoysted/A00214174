{
 "cells": [
  {
   "cell_type": "code",
   "execution_count": 1,
   "id": "603589a3-f9af-4f46-8b64-e099861b4fd8",
   "metadata": {},
   "outputs": [],
   "source": [
    "#Libraries\n",
    "import pandas as pd\n",
    "import numpy as np\n",
    "from sklearn.linear_model import Ridge\n",
    "from sklearn.linear_model import RidgeCV\n",
    "from sklearn.model_selection import RepeatedKFold\n",
    "from sklearn.metrics import mean_squared_error\n",
    "from sklearn.ensemble import RandomForestRegressor\n",
    "from sklearn.model_selection import RandomizedSearchCV\n",
    "from sklearn.preprocessing import StandardScaler\n",
    "import numpy as np\n",
    "from sklearn.linear_model import Lasso\n",
    "from sklearn.linear_model import LassoCV\n",
    "from tqdm import tqdm\n",
    "import pickle\n",
    "import warnings\n",
    "warnings.filterwarnings('ignore')\n",
    "import matplotlib.pyplot as plt\n",
    "import seaborn as sns\n",
    "import plotly.express as px\n",
    "from sklearn.preprocessing import StandardScaler\n",
    "from sklearn.metrics import mean_absolute_error\n",
    "from sklearn.metrics import r2_score\n",
    "from sklearn.feature_selection import mutual_info_regression\n",
    "from sklearn.model_selection import train_test_split, GridSearchCV\n",
    "from sklearn.svm import SVR\n",
    "from sklearn.linear_model import LinearRegression\n",
    "import shap"
   ]
  },
  {
   "cell_type": "code",
   "execution_count": 2,
   "id": "be1363f3-9075-4eab-8895-25b1e0a404c2",
   "metadata": {},
   "outputs": [],
   "source": [
    "stats = pd.read_csv(\"Data_Stats.csv\", index_col=0)"
   ]
  },
  {
   "cell_type": "code",
   "execution_count": 3,
   "id": "be826e20-75fd-4007-89d7-c627ff45b414",
   "metadata": {},
   "outputs": [],
   "source": [
    "del stats['_ID_NEW']\n",
    "del stats['NTm']\n",
    "del stats['Team']\n",
    "del stats['PTS_R']\n",
    "del stats['AST_R']\n",
    "del stats['STL_R']\n",
    "del stats['BLK_R']\n",
    "del stats['3P_R']\n",
    "del stats['Point_Contribution_PG'] "
   ]
  },
  {
   "cell_type": "code",
   "execution_count": 4,
   "id": "e74926ad-94c7-436b-89c8-d693e879cd83",
   "metadata": {},
   "outputs": [],
   "source": [
    "stats2 = stats.copy()\n",
    "del stats2['Level_of_Impact']\n",
    "del stats2['Quality_of_Impact']\n",
    "del stats2['Wins_Contribution']\n",
    "del stats2['Total_Stats']\n",
    "train = stats2[~(stats2[\"Year\"] == 2021)]\n",
    "test = stats2[stats2[\"Year\"] == 2021]"
   ]
  },
  {
   "cell_type": "code",
   "execution_count": 5,
   "id": "db5682b6-4120-4618-a12d-9edefa5ba36e",
   "metadata": {},
   "outputs": [],
   "source": [
    "predictors = ['Age', 'G', 'GS', 'MP', 'FG', 'FGA', 'FG%', '3P',\n",
    "       '3PA', '3P%', '2P', '2PA', '2P%', 'eFG%', 'FT', 'FTA', 'FT%', 'ORB',\n",
    "       'DRB', 'TRB', 'AST', 'STL', 'BLK', 'TOV', 'PF', 'PTS',\n",
    "       'Team W', 'Team L',\n",
    "       'Team WL', 'Team GB', 'Team PS G', 'Team PA G', 'Team P Diff', 'NPos',\n",
    "        'per', 'ts_pct', 'fg3a_per_fga_pct', 'fta_per_fga_pct',\n",
    "       'orb_pct', 'drb_pct', 'trb_pct', 'ast_pct', 'stl_pct', 'blk_pct',\n",
    "       'tov_pct', 'usg_pct', 'ows', 'dws', 'ws', 'ws_per_48', 'obpm', 'dbpm',\n",
    "       'bpm', 'vorp', 'mov', 'mov_adj']"
   ]
  },
  {
   "cell_type": "code",
   "execution_count": 6,
   "id": "ef35eecb-fd49-4de4-898c-559a59f20ce1",
   "metadata": {},
   "outputs": [],
   "source": [
    "#Methods\n",
    "def backtest(stats2, model, years, predictors):\n",
    "    aps = []\n",
    "    all_predictions = []\n",
    "    for year in years:\n",
    "        train = stats2[stats2[\"Year\"] < year]\n",
    "        test = stats2[stats2[\"Year\"] == year]\n",
    "        model.fit(train[predictors],train[\"Share pc\"])\n",
    "        predictions1 = model.predict(test[predictors])\n",
    "        predictions1 = pd.DataFrame(predictions1, columns=[\"predictions1\"], index=test.index)\n",
    "        combination1 = pd.concat([test[[\"Player\", \"Share pc\", \"Year\"]], predictions1], axis=1)\n",
    "        combination1 = add_ranks(combination1)\n",
    "        all_predictions.append(combination1)\n",
    "        aps.append(find_ap(combination1))\n",
    "    return sum(aps) / len(aps), aps, pd.concat(all_predictions)"
   ]
  },
  {
   "cell_type": "code",
   "execution_count": 7,
   "id": "0705b504-8f99-4b8d-84bb-184f80f2c946",
   "metadata": {},
   "outputs": [],
   "source": [
    "def add_ranks(predictions1):\n",
    "    predictions1 = predictions1.sort_values(\"predictions1\", ascending=False)\n",
    "    predictions1[\"Predicted_Rk\"] = list(range(1,predictions1.shape[0]+1))\n",
    "    predictions1 = predictions1.sort_values(\"Share pc\", ascending=False)\n",
    "    predictions1[\"Rk\"] = list(range(1,predictions1.shape[0]+1))\n",
    "    predictions1[\"Diff\"] = (predictions1[\"Rk\"] - predictions1[\"Predicted_Rk\"])\n",
    "    return predictions1"
   ]
  },
  {
   "cell_type": "code",
   "execution_count": 8,
   "id": "a7fc9ffd-8280-4c1e-880c-033abc1590d3",
   "metadata": {},
   "outputs": [],
   "source": [
    "def find_ap(combination1):\n",
    "    actual = combination1.sort_values(\"Share pc\", ascending=False).head(5)\n",
    "    predicted = combination1.sort_values(\"predictions1\", ascending=False)\n",
    "    ps = []\n",
    "    found = 0\n",
    "    seen = 1\n",
    "    for index,row in predicted.iterrows():\n",
    "        if row[\"Player\"] in actual[\"Player\"].values:\n",
    "            found += 1\n",
    "            ps.append(found / seen)\n",
    "        seen += 1\n",
    "\n",
    "    return sum(ps) / len(ps)"
   ]
  },
  {
   "cell_type": "code",
   "execution_count": 9,
   "id": "8d4c2528-d018-4f1b-83f1-351453f88db0",
   "metadata": {},
   "outputs": [],
   "source": [
    "def calculate_ml_scores(df):\n",
    "    X = df.copy()\n",
    "    y = X[\"Share pc\"]\n",
    "\n",
    "    X.drop('Share pc', axis=1, inplace=True)\n",
    "\n",
    "    # Label encoding for categoricals\n",
    "    for colname in X.select_dtypes(\"object\"):\n",
    "        X[colname], _ = X[colname].factorize()\n",
    "\n",
    "    # All discrete features should now have integer dtypes (double-check this before using MI!)\n",
    "    discrete_features = X.dtypes == int\n",
    "    \n",
    "    mi_scores = mutual_info_regression(X, y)\n",
    "    mi_scores = pd.Series(mi_scores, name=\"MI Scores\", index=X.columns)\n",
    "    mi_scores = mi_scores.sort_values(ascending=False)\n",
    "    return X, y, mi_scores"
   ]
  },
  {
   "cell_type": "code",
   "execution_count": 10,
   "id": "d935fa99-fea0-4c08-81e4-bafe335283e3",
   "metadata": {},
   "outputs": [],
   "source": [
    "def plot_mi_scores(scores, figsize):\n",
    "    scores = scores.sort_values(ascending=True)\n",
    "    width = np.arange(len(scores))\n",
    "    ticks = list(scores.index)\n",
    "    \n",
    "    fig, ax = plt.subplots(figsize=figsize)\n",
    "    ax.barh(width, scores)\n",
    "    \n",
    "    for index, value in enumerate(scores):\n",
    "        plt.text(value +0.005 , index, str(round(value,2)))\n",
    "    \n",
    "    plt.yticks(width, ticks)    \n",
    "    plt.title(\"Mutual Information Scores\")"
   ]
  },
  {
   "cell_type": "code",
   "execution_count": 20,
   "id": "75102415-8b7c-418b-b57f-9eebdc647b2e",
   "metadata": {},
   "outputs": [
    {
     "data": {
      "text/plain": [
       "(14697, 56)"
      ]
     },
     "execution_count": 20,
     "metadata": {},
     "output_type": "execute_result"
    }
   ],
   "source": [
    "stats2[predictors].shape"
   ]
  },
  {
   "cell_type": "code",
   "execution_count": 21,
   "id": "506733b8-b7fd-41e9-88fb-41cede675334",
   "metadata": {},
   "outputs": [],
   "source": [
    "years = list(range(1991,2023))"
   ]
  },
  {
   "cell_type": "code",
   "execution_count": 22,
   "id": "cafe1152-06a2-4fa5-b5fb-f8769b7b16c8",
   "metadata": {},
   "outputs": [],
   "source": [
    "#Regression Models Round 1\n",
    "#Ridge\n",
    "reg = Ridge(alpha=.1)"
   ]
  },
  {
   "cell_type": "code",
   "execution_count": 23,
   "id": "45563ac5-6174-4f1d-85ac-625ced5b9f2c",
   "metadata": {},
   "outputs": [
    {
     "data": {
      "text/plain": [
       "Ridge(alpha=0.1)"
      ]
     },
     "execution_count": 23,
     "metadata": {},
     "output_type": "execute_result"
    }
   ],
   "source": [
    "reg.fit(train[predictors],train[\"Share pc\"])"
   ]
  },
  {
   "cell_type": "code",
   "execution_count": 24,
   "id": "8b26ea30-9ca8-428f-b271-3418c45f22f2",
   "metadata": {},
   "outputs": [],
   "source": [
    "mean_ap_ridge_1, aps_ridge_1, all_predictions_ridge_1 = backtest(stats2, reg, years[5:], predictors)"
   ]
  },
  {
   "cell_type": "code",
   "execution_count": 25,
   "id": "171ef78d-07a2-48ad-800e-5befc301cc3c",
   "metadata": {},
   "outputs": [
    {
     "data": {
      "text/plain": [
       "0.7766264771044185"
      ]
     },
     "execution_count": 25,
     "metadata": {},
     "output_type": "execute_result"
    }
   ],
   "source": [
    "mean_ap_ridge_1"
   ]
  },
  {
   "cell_type": "code",
   "execution_count": 26,
   "id": "e5962abb-649a-4d0e-a24b-e22203af1d93",
   "metadata": {},
   "outputs": [
    {
     "data": {
      "text/plain": [
       "0.0024934773712691344"
      ]
     },
     "execution_count": 26,
     "metadata": {},
     "output_type": "execute_result"
    }
   ],
   "source": [
    "mean_squared_error(all_predictions_ridge_1[\"Share pc\"], all_predictions_ridge_1[\"predictions1\"])"
   ]
  },
  {
   "cell_type": "code",
   "execution_count": 27,
   "id": "130b96fe-263d-49a1-82c1-79b278af63c0",
   "metadata": {},
   "outputs": [
    {
     "data": {
      "text/plain": [
       "0.020191489107436414"
      ]
     },
     "execution_count": 27,
     "metadata": {},
     "output_type": "execute_result"
    }
   ],
   "source": [
    "mean_absolute_error(all_predictions_ridge_1[\"Share pc\"], all_predictions_ridge_1[\"predictions1\"])"
   ]
  },
  {
   "cell_type": "code",
   "execution_count": 28,
   "id": "2d6fbcea-6f40-449f-8e49-1535f64fb79f",
   "metadata": {},
   "outputs": [],
   "source": [
    "#Random FOrrest\n",
    "rf = RandomForestRegressor(n_estimators=50, random_state=1, min_samples_split=5)"
   ]
  },
  {
   "cell_type": "code",
   "execution_count": 29,
   "id": "82748602-e1be-44a1-85d2-28e8662be2d1",
   "metadata": {},
   "outputs": [],
   "source": [
    "mean_ap_rf_1, aps_rf_1, all_predictions_rf_1 = backtest(stats2, rf, years[5:], predictors)"
   ]
  },
  {
   "cell_type": "code",
   "execution_count": 30,
   "id": "5161e489-8207-42f8-8f05-88739dcf0d83",
   "metadata": {},
   "outputs": [
    {
     "data": {
      "text/plain": [
       "0.8144363963318209"
      ]
     },
     "execution_count": 30,
     "metadata": {},
     "output_type": "execute_result"
    }
   ],
   "source": [
    "mean_ap_rf_1"
   ]
  },
  {
   "cell_type": "code",
   "execution_count": 31,
   "id": "8092afa4-e649-4fa0-ae51-ef2291ef90b1",
   "metadata": {},
   "outputs": [
    {
     "data": {
      "text/plain": [
       "0.001127410404135947"
      ]
     },
     "execution_count": 31,
     "metadata": {},
     "output_type": "execute_result"
    }
   ],
   "source": [
    "mean_squared_error(all_predictions_rf_1[\"Share pc\"], all_predictions_rf_1[\"predictions1\"])"
   ]
  },
  {
   "cell_type": "code",
   "execution_count": 32,
   "id": "546720b4-faf3-4ce5-8f3e-452082771c2a",
   "metadata": {},
   "outputs": [
    {
     "data": {
      "text/plain": [
       "0.004165058667561574"
      ]
     },
     "execution_count": 32,
     "metadata": {},
     "output_type": "execute_result"
    }
   ],
   "source": [
    "mean_absolute_error(all_predictions_rf_1[\"Share pc\"], all_predictions_rf_1[\"predictions1\"])"
   ]
  },
  {
   "cell_type": "code",
   "execution_count": 33,
   "id": "a8a80426-cef0-4343-991a-35ba55f37814",
   "metadata": {},
   "outputs": [],
   "source": [
    "#Linear Regression\n",
    "lr = LinearRegression()"
   ]
  },
  {
   "cell_type": "code",
   "execution_count": 34,
   "id": "9ac63e08-48d1-422f-ba2e-cbfbd7a0b893",
   "metadata": {},
   "outputs": [],
   "source": [
    "mean_ap_lr_1, aps_lr_1, all_predictions_lr_1 = backtest(stats2, lr, years[5:], predictors)"
   ]
  },
  {
   "cell_type": "code",
   "execution_count": 35,
   "id": "4d87e8fc-1783-4a9d-9891-3d8ec3087bb0",
   "metadata": {},
   "outputs": [
    {
     "data": {
      "text/plain": [
       "0.7740198160337052"
      ]
     },
     "execution_count": 35,
     "metadata": {},
     "output_type": "execute_result"
    }
   ],
   "source": [
    "mean_ap_lr_1"
   ]
  },
  {
   "cell_type": "code",
   "execution_count": 36,
   "id": "39a1dac0-11c7-49b9-8706-39e783911e00",
   "metadata": {},
   "outputs": [
    {
     "data": {
      "text/plain": [
       "0.002499633645903594"
      ]
     },
     "execution_count": 36,
     "metadata": {},
     "output_type": "execute_result"
    }
   ],
   "source": [
    "mean_squared_error(all_predictions_lr_1[\"Share pc\"], all_predictions_lr_1[\"predictions1\"])"
   ]
  },
  {
   "cell_type": "code",
   "execution_count": 37,
   "id": "b6321aa0-7746-4e34-8cb2-e20e57091242",
   "metadata": {},
   "outputs": [
    {
     "data": {
      "text/plain": [
       "0.02025638542826275"
      ]
     },
     "execution_count": 37,
     "metadata": {},
     "output_type": "execute_result"
    }
   ],
   "source": [
    "mean_absolute_error(all_predictions_lr_1[\"Share pc\"], all_predictions_lr_1[\"predictions1\"])"
   ]
  },
  {
   "cell_type": "code",
   "execution_count": 38,
   "id": "fb97f2a0-a180-4cab-ad4b-faacef857257",
   "metadata": {},
   "outputs": [],
   "source": [
    "#Variable Selection 1\n",
    "to_drop_mi = ['Player', 'Pos', 'Tm','Share Pts Won', 'Share Pts Max','Rank_MVP','ws_per_48','obpm','Year']"
   ]
  },
  {
   "cell_type": "code",
   "execution_count": 39,
   "id": "cfcbb9e8-2a60-4d5c-82cd-d78a1990f03e",
   "metadata": {},
   "outputs": [],
   "source": [
    "master_table_mi = stats2.copy()\n",
    "master_table_mi.drop(to_drop_mi, axis=1, inplace=True)"
   ]
  },
  {
   "cell_type": "code",
   "execution_count": 40,
   "id": "1e993a78-c33a-418a-9b72-12481191e07c",
   "metadata": {},
   "outputs": [],
   "source": [
    "X, y, mi_scores = calculate_ml_scores(df=master_table_mi)"
   ]
  },
  {
   "cell_type": "code",
   "execution_count": 41,
   "id": "cac749a4-f23a-427a-be6f-49229505e824",
   "metadata": {},
   "outputs": [
    {
     "data": {
      "image/png": "[encoded data removed]",
      "text/plain": [
       "<Figure size 1440x1440 with 1 Axes>"
      ]
     },
     "metadata": {
      "needs_background": "light"
     },
     "output_type": "display_data"
    }
   ],
   "source": [
    "plot_mi_scores(mi_scores, figsize=(20,20))"
   ]
  },
  {
   "cell_type": "code",
   "execution_count": 42,
   "id": "115d772d-253d-4b2c-a352-a03b3a9b2bd1",
   "metadata": {},
   "outputs": [],
   "source": [
    "##Regression Models Round 2\n",
    "predictors2 = [\"vorp\",\"bpm\",\"per\",\"FG\",\"FTA\",\"ws\",\"PTS\",\"ows\",\"2P\",\"2PA\",\"FT\",\"MP\",\"FGA\",\"TOV\", \"dws\", \"usg_pct\"]"
   ]
  },
  {
   "cell_type": "code",
   "execution_count": 43,
   "id": "043b404a-f9ed-4b93-ba5a-3fc0cd38ede0",
   "metadata": {},
   "outputs": [
    {
     "data": {
      "text/plain": [
       "(14697, 16)"
      ]
     },
     "execution_count": 43,
     "metadata": {},
     "output_type": "execute_result"
    }
   ],
   "source": [
    "stats2[predictors2].shape"
   ]
  },
  {
   "cell_type": "code",
   "execution_count": 44,
   "id": "8eb4de23-12a6-4de4-8ae9-cbf3e0aceda1",
   "metadata": {},
   "outputs": [],
   "source": [
    "mean_ap_ridge_2, aps_ridge_2, all_predictions_ridge_2 = backtest(stats2, reg, years[5:], predictors2)\n",
    "mean_ap_rf_2, aps_rf_2, all_predictions_rf_2 = backtest(stats2, rf, years[5:], predictors2)\n",
    "mean_ap_lr_2, aps_lr_2, all_predictions_lr_2 = backtest(stats2, lr, years[5:], predictors2)"
   ]
  },
  {
   "cell_type": "code",
   "execution_count": 45,
   "id": "3f4dd563-36ad-409b-9f8b-a50697f63f9b",
   "metadata": {},
   "outputs": [
    {
     "data": {
      "text/plain": [
       "(0.8006559741062664, 0.7840736886570219, 0.8006529949366206)"
      ]
     },
     "execution_count": 45,
     "metadata": {},
     "output_type": "execute_result"
    }
   ],
   "source": [
    "mean_ap_ridge_2,mean_ap_rf_2,mean_ap_lr_2"
   ]
  },
  {
   "cell_type": "code",
   "execution_count": 46,
   "id": "54687036-de5a-41fa-a106-7ec6822ea5b8",
   "metadata": {},
   "outputs": [
    {
     "data": {
      "text/plain": [
       "(0.0025292244609156876, 0.0012799958051701848, 0.0025292926258901676)"
      ]
     },
     "execution_count": 46,
     "metadata": {},
     "output_type": "execute_result"
    }
   ],
   "source": [
    "mean_squared_error(all_predictions_ridge_2[\"Share pc\"], all_predictions_ridge_2[\"predictions1\"]),mean_squared_error(all_predictions_rf_2[\"Share pc\"], all_predictions_rf_2[\"predictions1\"]),mean_squared_error(all_predictions_lr_2[\"Share pc\"], all_predictions_lr_2[\"predictions1\"])"
   ]
  },
  {
   "cell_type": "code",
   "execution_count": 47,
   "id": "2d73ed2e-4a0e-4b15-ae57-a5a66615a207",
   "metadata": {},
   "outputs": [
    {
     "data": {
      "text/plain": [
       "(0.020162463849287143, 0.004489031104170639, 0.020163782894665545)"
      ]
     },
     "execution_count": 47,
     "metadata": {},
     "output_type": "execute_result"
    }
   ],
   "source": [
    "mean_absolute_error(all_predictions_ridge_2[\"Share pc\"], all_predictions_ridge_2[\"predictions1\"]),mean_absolute_error(all_predictions_rf_2[\"Share pc\"], all_predictions_rf_2[\"predictions1\"]),mean_absolute_error(all_predictions_lr_2[\"Share pc\"], all_predictions_lr_2[\"predictions1\"])"
   ]
  },
  {
   "cell_type": "code",
   "execution_count": 48,
   "id": "ac99fc28-6a83-4f0e-825c-37bd0e13abda",
   "metadata": {},
   "outputs": [],
   "source": [
    "#Variable Selection 2\n",
    "master_table_mi = stats.copy()"
   ]
  },
  {
   "cell_type": "code",
   "execution_count": 49,
   "id": "e2a74db3-fc7c-4c87-8438-06056a1a7db9",
   "metadata": {},
   "outputs": [],
   "source": [
    "master_table_mi.drop(to_drop_mi, axis=1, inplace=True)"
   ]
  },
  {
   "cell_type": "code",
   "execution_count": 50,
   "id": "ca3ae1cb-1e9b-42f5-bd0b-ed6948e82544",
   "metadata": {},
   "outputs": [
    {
     "data": {
      "image/png": "[encoded data removed]",
      "text/plain": [
       "<Figure size 1440x1440 with 1 Axes>"
      ]
     },
     "metadata": {
      "needs_background": "light"
     },
     "output_type": "display_data"
    }
   ],
   "source": [
    "X, y, mi_scores = calculate_ml_scores(df=master_table_mi)\n",
    "plot_mi_scores(mi_scores, figsize=(20,20))"
   ]
  },
  {
   "cell_type": "code",
   "execution_count": 51,
   "id": "d9ee3911-121f-4686-9e36-26a24a31ead2",
   "metadata": {},
   "outputs": [],
   "source": [
    "#Regression Models Round 3\n",
    "predictors3 = [\"vorp\",\"bpm\",\"per\",\"FG\",\"FTA\",\"ws\",\"PTS\",\"ows\",\"2P\",\"2PA\",\"FT\",\"MP\",\"FGA\",\"TOV\", \"dws\", \"usg_pct\", \"Level_of_Impact\",\"Quality_of_Impact\",\"Wins_Contribution\",\"Total_Stats\"]"
   ]
  },
  {
   "cell_type": "code",
   "execution_count": 52,
   "id": "5f96bef6-06ec-4b60-8011-05397638b000",
   "metadata": {},
   "outputs": [
    {
     "data": {
      "text/plain": [
       "(14697, 20)"
      ]
     },
     "execution_count": 52,
     "metadata": {},
     "output_type": "execute_result"
    }
   ],
   "source": [
    "stats[predictors3].shape"
   ]
  },
  {
   "cell_type": "code",
   "execution_count": 53,
   "id": "11a9e435-6f5b-420d-8e02-2195a8768a68",
   "metadata": {},
   "outputs": [],
   "source": [
    "mean_ap_ridge_3, aps_ridge_3, all_predictions_ridge_3 = backtest(stats, reg, years[5:], predictors3)\n",
    "mean_ap_rf_3, aps_rf_3, all_predictions_rf_3 = backtest(stats, rf, years[5:], predictors3)\n",
    "mean_ap_lr_3, aps_lr_3, all_predictions_lr_3 = backtest(stats, lr, years[5:], predictors3)"
   ]
  },
  {
   "cell_type": "code",
   "execution_count": 54,
   "id": "2264896c-cbc7-43ee-af4e-b77a0074e125",
   "metadata": {},
   "outputs": [
    {
     "data": {
      "text/plain": [
       "(0.8208045633046246, 0.8017561477706406, 0.8208047494203886)"
      ]
     },
     "execution_count": 54,
     "metadata": {},
     "output_type": "execute_result"
    }
   ],
   "source": [
    "mean_ap_ridge_3, mean_ap_rf_3, mean_ap_lr_3"
   ]
  },
  {
   "cell_type": "code",
   "execution_count": 55,
   "id": "4186f94f-496b-46f6-b6cc-49704115b474",
   "metadata": {},
   "outputs": [
    {
     "data": {
      "text/plain": [
       "(0.0015989772503640577, 0.0010743650491402117, 0.0015990217786723136)"
      ]
     },
     "execution_count": 55,
     "metadata": {},
     "output_type": "execute_result"
    }
   ],
   "source": [
    "mean_squared_error(all_predictions_ridge_3[\"Share pc\"], all_predictions_ridge_3[\"predictions1\"]),mean_squared_error(all_predictions_rf_3[\"Share pc\"], all_predictions_rf_3[\"predictions1\"]),mean_squared_error(all_predictions_lr_3[\"Share pc\"], all_predictions_lr_3[\"predictions1\"])"
   ]
  },
  {
   "cell_type": "code",
   "execution_count": 56,
   "id": "1afbcb0a-6b97-47d6-98bb-fbd8802ad5a6",
   "metadata": {},
   "outputs": [
    {
     "data": {
      "text/plain": [
       "(0.0155588359209352, 0.004039945541896123, 0.01555961454620801)"
      ]
     },
     "execution_count": 56,
     "metadata": {},
     "output_type": "execute_result"
    }
   ],
   "source": [
    "mean_absolute_error(all_predictions_ridge_3[\"Share pc\"], all_predictions_ridge_3[\"predictions1\"]),mean_absolute_error(all_predictions_rf_3[\"Share pc\"], all_predictions_rf_3[\"predictions1\"]),mean_absolute_error(all_predictions_lr_3[\"Share pc\"], all_predictions_lr_3[\"predictions1\"])"
   ]
  },
  {
   "cell_type": "code",
   "execution_count": 57,
   "id": "a14f9c12-b2dc-4dd2-a3e7-6fe32199a8d9",
   "metadata": {},
   "outputs": [],
   "source": [
    "all_predictions_ridge_1.to_csv(\"all_predictions_ridge_1.csv\")\n",
    "all_predictions_ridge_2.to_csv(\"all_predictions_ridge_2.csv\")\n",
    "all_predictions_ridge_3.to_csv(\"all_predictions_ridge_3.csv\")\n",
    "all_predictions_rf_1.to_csv(\"all_predictions_rf_1.csv\")\n",
    "all_predictions_rf_2.to_csv(\"all_predictions_rf_2.csv\")\n",
    "all_predictions_rf_3.to_csv(\"all_predictions_rf_3.csv\")\n",
    "all_predictions_lr_1.to_csv(\"all_predictions_lr_1.csv\")\n",
    "all_predictions_lr_2.to_csv(\"all_predictions_lr_2.csv\")\n",
    "all_predictions_lr_3.to_csv(\"all_predictions_lr_3.csv\")"
   ]
  },
  {
   "cell_type": "code",
   "execution_count": 59,
   "id": "6380a490-d36b-4cad-ad9c-1cf07c0259e6",
   "metadata": {},
   "outputs": [],
   "source": [
    "#Regression Models Round 4\n",
    "#Ridge Tuning\n",
    "cv = RepeatedKFold(n_splits=10, n_repeats=3, random_state=1)\n",
    "reg0 = RidgeCV(alphas=np.arange(0, 1, 0.01), cv=cv, scoring='neg_mean_absolute_error')"
   ]
  },
  {
   "cell_type": "code",
   "execution_count": 60,
   "id": "57451642-969c-43fb-9c78-1a5d69a3b08e",
   "metadata": {},
   "outputs": [
    {
     "data": {
      "text/plain": [
       "RidgeCV(alphas=array([0.  , 0.01, 0.02, 0.03, 0.04, 0.05, 0.06, 0.07, 0.08, 0.09, 0.1 ,\n",
       "       0.11, 0.12, 0.13, 0.14, 0.15, 0.16, 0.17, 0.18, 0.19, 0.2 , 0.21,\n",
       "       0.22, 0.23, 0.24, 0.25, 0.26, 0.27, 0.28, 0.29, 0.3 , 0.31, 0.32,\n",
       "       0.33, 0.34, 0.35, 0.36, 0.37, 0.38, 0.39, 0.4 , 0.41, 0.42, 0.43,\n",
       "       0.44, 0.45, 0.46, 0.47, 0.48, 0.49, 0.5 , 0.51, 0.52, 0.53, 0.54,\n",
       "       0.55, 0.56, 0.57, 0.58, 0.59, 0.6 , 0.61, 0.62, 0.63, 0.64, 0.65,\n",
       "       0.66, 0.67, 0.68, 0.69, 0.7 , 0.71, 0.72, 0.73, 0.74, 0.75, 0.76,\n",
       "       0.77, 0.78, 0.79, 0.8 , 0.81, 0.82, 0.83, 0.84, 0.85, 0.86, 0.87,\n",
       "       0.88, 0.89, 0.9 , 0.91, 0.92, 0.93, 0.94, 0.95, 0.96, 0.97, 0.98,\n",
       "       0.99]),\n",
       "        cv=RepeatedKFold(n_repeats=3, n_splits=10, random_state=1),\n",
       "        scoring='neg_mean_absolute_error')"
      ]
     },
     "execution_count": 60,
     "metadata": {},
     "output_type": "execute_result"
    }
   ],
   "source": [
    "reg0.fit(train[predictors],train[\"Share pc\"])"
   ]
  },
  {
   "cell_type": "code",
   "execution_count": 61,
   "id": "5264c2af-8528-49ce-85ea-c5f7e7952008",
   "metadata": {},
   "outputs": [
    {
     "name": "stdout",
     "output_type": "stream",
     "text": [
      "0.99\n"
     ]
    }
   ],
   "source": [
    "print(reg0.alpha_) # how much the coef shrinks"
   ]
  },
  {
   "cell_type": "code",
   "execution_count": 62,
   "id": "cd8846ef-2bbd-4a66-932b-afb921c3a6c7",
   "metadata": {},
   "outputs": [],
   "source": [
    "reg = Ridge(alpha=reg0.alpha_)"
   ]
  },
  {
   "cell_type": "code",
   "execution_count": 63,
   "id": "6ef421cd-a816-4803-8233-96fbb0d9409d",
   "metadata": {},
   "outputs": [
    {
     "data": {
      "text/plain": [
       "Ridge(alpha=0.99)"
      ]
     },
     "execution_count": 63,
     "metadata": {},
     "output_type": "execute_result"
    }
   ],
   "source": [
    "reg.fit(train[predictors],train[\"Share pc\"])#use predictors to predict Share"
   ]
  },
  {
   "cell_type": "code",
   "execution_count": 64,
   "id": "5f5b1db9-7253-425c-83d1-eb6fd6dac462",
   "metadata": {},
   "outputs": [],
   "source": [
    "mean_ap_ridge_4, aps_ridge_4, all_predictions_ridge_4 = backtest(stats, reg, years[5:], predictors3)\n"
   ]
  },
  {
   "cell_type": "code",
   "execution_count": 65,
   "id": "9fa97778-4672-4e8b-baad-23ad86f78d94",
   "metadata": {},
   "outputs": [
    {
     "data": {
      "text/plain": [
       "0.8208049053592418"
      ]
     },
     "execution_count": 65,
     "metadata": {},
     "output_type": "execute_result"
    }
   ],
   "source": [
    "mean_ap_ridge_4"
   ]
  },
  {
   "cell_type": "code",
   "execution_count": 66,
   "id": "c4bd1872-ea79-4074-86c0-f5d3d64f8153",
   "metadata": {},
   "outputs": [
    {
     "data": {
      "text/html": [
       "<div>\n",
       "<style scoped>\n",
       "    .dataframe tbody tr th:only-of-type {\n",
       "        vertical-align: middle;\n",
       "    }\n",
       "\n",
       "    .dataframe tbody tr th {\n",
       "        vertical-align: top;\n",
       "    }\n",
       "\n",
       "    .dataframe thead th {\n",
       "        text-align: right;\n",
       "    }\n",
       "</style>\n",
       "<table border=\"1\" class=\"dataframe\">\n",
       "  <thead>\n",
       "    <tr style=\"text-align: right;\">\n",
       "      <th></th>\n",
       "      <th>Player</th>\n",
       "      <th>Share pc</th>\n",
       "      <th>Year</th>\n",
       "      <th>predictions1</th>\n",
       "      <th>Predicted_Rk</th>\n",
       "      <th>Rk</th>\n",
       "      <th>Diff</th>\n",
       "    </tr>\n",
       "    <tr>\n",
       "      <th>Column1</th>\n",
       "      <th></th>\n",
       "      <th></th>\n",
       "      <th></th>\n",
       "      <th></th>\n",
       "      <th></th>\n",
       "      <th></th>\n",
       "      <th></th>\n",
       "    </tr>\n",
       "  </thead>\n",
       "  <tbody>\n",
       "    <tr>\n",
       "      <th>10962</th>\n",
       "      <td>Michael Jordan</td>\n",
       "      <td>0.986</td>\n",
       "      <td>1996</td>\n",
       "      <td>0.885454</td>\n",
       "      <td>1</td>\n",
       "      <td>1</td>\n",
       "      <td>0</td>\n",
       "    </tr>\n",
       "    <tr>\n",
       "      <th>10261</th>\n",
       "      <td>David Robinson</td>\n",
       "      <td>0.508</td>\n",
       "      <td>1996</td>\n",
       "      <td>0.489956</td>\n",
       "      <td>2</td>\n",
       "      <td>2</td>\n",
       "      <td>0</td>\n",
       "    </tr>\n",
       "    <tr>\n",
       "      <th>7645</th>\n",
       "      <td>Anfernee Hardaway</td>\n",
       "      <td>0.319</td>\n",
       "      <td>1996</td>\n",
       "      <td>0.269811</td>\n",
       "      <td>4</td>\n",
       "      <td>3</td>\n",
       "      <td>-1</td>\n",
       "    </tr>\n",
       "    <tr>\n",
       "      <th>5197</th>\n",
       "      <td>Hakeem Olajuwon</td>\n",
       "      <td>0.211</td>\n",
       "      <td>1996</td>\n",
       "      <td>0.207774</td>\n",
       "      <td>6</td>\n",
       "      <td>4</td>\n",
       "      <td>-2</td>\n",
       "    </tr>\n",
       "    <tr>\n",
       "      <th>10965</th>\n",
       "      <td>Scottie Pippen</td>\n",
       "      <td>0.200</td>\n",
       "      <td>1996</td>\n",
       "      <td>0.245368</td>\n",
       "      <td>5</td>\n",
       "      <td>5</td>\n",
       "      <td>0</td>\n",
       "    </tr>\n",
       "    <tr>\n",
       "      <th>...</th>\n",
       "      <td>...</td>\n",
       "      <td>...</td>\n",
       "      <td>...</td>\n",
       "      <td>...</td>\n",
       "      <td>...</td>\n",
       "      <td>...</td>\n",
       "      <td>...</td>\n",
       "    </tr>\n",
       "    <tr>\n",
       "      <th>8239</th>\n",
       "      <td>Jemerrio Jones</td>\n",
       "      <td>0.000</td>\n",
       "      <td>2022</td>\n",
       "      <td>0.007344</td>\n",
       "      <td>209</td>\n",
       "      <td>601</td>\n",
       "      <td>392</td>\n",
       "    </tr>\n",
       "    <tr>\n",
       "      <th>11879</th>\n",
       "      <td>Greg Monroe</td>\n",
       "      <td>0.000</td>\n",
       "      <td>2022</td>\n",
       "      <td>0.007338</td>\n",
       "      <td>210</td>\n",
       "      <td>602</td>\n",
       "      <td>392</td>\n",
       "    </tr>\n",
       "    <tr>\n",
       "      <th>1860</th>\n",
       "      <td>Jahmi'us Ramsey</td>\n",
       "      <td>0.000</td>\n",
       "      <td>2022</td>\n",
       "      <td>0.007307</td>\n",
       "      <td>211</td>\n",
       "      <td>603</td>\n",
       "      <td>392</td>\n",
       "    </tr>\n",
       "    <tr>\n",
       "      <th>5591</th>\n",
       "      <td>Jay Scrubb</td>\n",
       "      <td>0.000</td>\n",
       "      <td>2022</td>\n",
       "      <td>0.007231</td>\n",
       "      <td>212</td>\n",
       "      <td>604</td>\n",
       "      <td>392</td>\n",
       "    </tr>\n",
       "    <tr>\n",
       "      <th>5597</th>\n",
       "      <td>Reggie Jackson</td>\n",
       "      <td>0.000</td>\n",
       "      <td>2022</td>\n",
       "      <td>-0.039952</td>\n",
       "      <td>605</td>\n",
       "      <td>605</td>\n",
       "      <td>0</td>\n",
       "    </tr>\n",
       "  </tbody>\n",
       "</table>\n",
       "<p>12728 rows × 7 columns</p>\n",
       "</div>"
      ],
      "text/plain": [
       "                    Player  Share pc  Year  predictions1  Predicted_Rk   Rk  \\\n",
       "Column1                                                                       \n",
       "10962       Michael Jordan     0.986  1996      0.885454             1    1   \n",
       "10261       David Robinson     0.508  1996      0.489956             2    2   \n",
       "7645     Anfernee Hardaway     0.319  1996      0.269811             4    3   \n",
       "5197       Hakeem Olajuwon     0.211  1996      0.207774             6    4   \n",
       "10965       Scottie Pippen     0.200  1996      0.245368             5    5   \n",
       "...                    ...       ...   ...           ...           ...  ...   \n",
       "8239        Jemerrio Jones     0.000  2022      0.007344           209  601   \n",
       "11879          Greg Monroe     0.000  2022      0.007338           210  602   \n",
       "1860       Jahmi'us Ramsey     0.000  2022      0.007307           211  603   \n",
       "5591            Jay Scrubb     0.000  2022      0.007231           212  604   \n",
       "5597        Reggie Jackson     0.000  2022     -0.039952           605  605   \n",
       "\n",
       "         Diff  \n",
       "Column1        \n",
       "10962       0  \n",
       "10261       0  \n",
       "7645       -1  \n",
       "5197       -2  \n",
       "10965       0  \n",
       "...       ...  \n",
       "8239      392  \n",
       "11879     392  \n",
       "1860      392  \n",
       "5591      392  \n",
       "5597        0  \n",
       "\n",
       "[12728 rows x 7 columns]"
      ]
     },
     "execution_count": 66,
     "metadata": {},
     "output_type": "execute_result"
    }
   ],
   "source": [
    "all_predictions_ridge_4"
   ]
  },
  {
   "cell_type": "code",
   "execution_count": null,
   "id": "0284d591-cd24-4a75-b3a3-f1608ca3e309",
   "metadata": {},
   "outputs": [],
   "source": [
    "#Random Forrest Tuning\n",
    "param_grid = {\n",
    "    \"n_estimators\":[50,100,200,300],\n",
    "    \"max_depth\":[10, 50, 100],\n",
    "    \"max_features\":[6,8,10,12,14,16],\n",
    "    \"min_samples_split\":[5,10,15]\n",
    "}\n",
    "\n",
    "rf_reg = RandomForestRegressor()\n",
    "\n",
    "rf_reg_tuned = GridSearchCV(estimator=rf_reg,\n",
    "                            param_grid=param_grid,\n",
    "                            cv=3,\n",
    "                            n_jobs=-1,\n",
    "                            verbose=2)\n",
    "\n",
    "\n",
    "rf_reg_tuned.fit(train[predictors],train[\"Share pc\"])"
   ]
  },
  {
   "cell_type": "code",
   "execution_count": null,
   "id": "1baa7aa8-e535-4c47-8d1b-ed759824c67e",
   "metadata": {},
   "outputs": [],
   "source": [
    "rf_reg_tuned.best_params_"
   ]
  },
  {
   "cell_type": "code",
   "execution_count": 67,
   "id": "ccbaf832-889b-4cfe-be26-09cee83c4179",
   "metadata": {},
   "outputs": [],
   "source": [
    "rf2 = RandomForestRegressor(n_estimators=50, random_state=1, min_samples_split=5,max_depth = 10,max_features= 6)"
   ]
  },
  {
   "cell_type": "code",
   "execution_count": 68,
   "id": "b070c4a8-ad62-4041-96f4-9423b22df689",
   "metadata": {},
   "outputs": [],
   "source": [
    "mean_ap_rf_4, aps_rf_4, all_predictions_rf_4 = backtest(stats, rf2, years[5:], predictors3)"
   ]
  },
  {
   "cell_type": "code",
   "execution_count": 69,
   "id": "83d37ea1-d70c-4733-886e-11c74ef4cde9",
   "metadata": {},
   "outputs": [
    {
     "data": {
      "text/plain": [
       "0.8172029290109211"
      ]
     },
     "execution_count": 69,
     "metadata": {},
     "output_type": "execute_result"
    }
   ],
   "source": [
    "mean_ap_rf_4"
   ]
  },
  {
   "cell_type": "code",
   "execution_count": 70,
   "id": "5baaed2e-2c27-4e82-ac33-e454fff951a3",
   "metadata": {},
   "outputs": [
    {
     "data": {
      "text/html": [
       "<div>\n",
       "<style scoped>\n",
       "    .dataframe tbody tr th:only-of-type {\n",
       "        vertical-align: middle;\n",
       "    }\n",
       "\n",
       "    .dataframe tbody tr th {\n",
       "        vertical-align: top;\n",
       "    }\n",
       "\n",
       "    .dataframe thead th {\n",
       "        text-align: right;\n",
       "    }\n",
       "</style>\n",
       "<table border=\"1\" class=\"dataframe\">\n",
       "  <thead>\n",
       "    <tr style=\"text-align: right;\">\n",
       "      <th></th>\n",
       "      <th>Player</th>\n",
       "      <th>Share pc</th>\n",
       "      <th>Year</th>\n",
       "      <th>predictions1</th>\n",
       "      <th>Predicted_Rk</th>\n",
       "      <th>Rk</th>\n",
       "      <th>Diff</th>\n",
       "    </tr>\n",
       "    <tr>\n",
       "      <th>Column1</th>\n",
       "      <th></th>\n",
       "      <th></th>\n",
       "      <th></th>\n",
       "      <th></th>\n",
       "      <th></th>\n",
       "      <th></th>\n",
       "      <th></th>\n",
       "    </tr>\n",
       "  </thead>\n",
       "  <tbody>\n",
       "    <tr>\n",
       "      <th>10962</th>\n",
       "      <td>Michael Jordan</td>\n",
       "      <td>0.986</td>\n",
       "      <td>1996</td>\n",
       "      <td>0.718437</td>\n",
       "      <td>1</td>\n",
       "      <td>1</td>\n",
       "      <td>0</td>\n",
       "    </tr>\n",
       "    <tr>\n",
       "      <th>10261</th>\n",
       "      <td>David Robinson</td>\n",
       "      <td>0.508</td>\n",
       "      <td>1996</td>\n",
       "      <td>0.637850</td>\n",
       "      <td>2</td>\n",
       "      <td>2</td>\n",
       "      <td>0</td>\n",
       "    </tr>\n",
       "    <tr>\n",
       "      <th>7645</th>\n",
       "      <td>Anfernee Hardaway</td>\n",
       "      <td>0.319</td>\n",
       "      <td>1996</td>\n",
       "      <td>0.295462</td>\n",
       "      <td>4</td>\n",
       "      <td>3</td>\n",
       "      <td>-1</td>\n",
       "    </tr>\n",
       "    <tr>\n",
       "      <th>5197</th>\n",
       "      <td>Hakeem Olajuwon</td>\n",
       "      <td>0.211</td>\n",
       "      <td>1996</td>\n",
       "      <td>0.114212</td>\n",
       "      <td>7</td>\n",
       "      <td>4</td>\n",
       "      <td>-3</td>\n",
       "    </tr>\n",
       "    <tr>\n",
       "      <th>10965</th>\n",
       "      <td>Scottie Pippen</td>\n",
       "      <td>0.200</td>\n",
       "      <td>1996</td>\n",
       "      <td>0.136036</td>\n",
       "      <td>5</td>\n",
       "      <td>5</td>\n",
       "      <td>0</td>\n",
       "    </tr>\n",
       "    <tr>\n",
       "      <th>...</th>\n",
       "      <td>...</td>\n",
       "      <td>...</td>\n",
       "      <td>...</td>\n",
       "      <td>...</td>\n",
       "      <td>...</td>\n",
       "      <td>...</td>\n",
       "      <td>...</td>\n",
       "    </tr>\n",
       "    <tr>\n",
       "      <th>8316</th>\n",
       "      <td>Raul Neto</td>\n",
       "      <td>0.000</td>\n",
       "      <td>2022</td>\n",
       "      <td>0.000012</td>\n",
       "      <td>209</td>\n",
       "      <td>601</td>\n",
       "      <td>392</td>\n",
       "    </tr>\n",
       "    <tr>\n",
       "      <th>8315</th>\n",
       "      <td>Kyle Kuzma</td>\n",
       "      <td>0.000</td>\n",
       "      <td>2022</td>\n",
       "      <td>0.000012</td>\n",
       "      <td>210</td>\n",
       "      <td>602</td>\n",
       "      <td>392</td>\n",
       "    </tr>\n",
       "    <tr>\n",
       "      <th>12508</th>\n",
       "      <td>Micah Potter</td>\n",
       "      <td>0.000</td>\n",
       "      <td>2022</td>\n",
       "      <td>0.000012</td>\n",
       "      <td>211</td>\n",
       "      <td>603</td>\n",
       "      <td>392</td>\n",
       "    </tr>\n",
       "    <tr>\n",
       "      <th>12509</th>\n",
       "      <td>Rodney McGruder</td>\n",
       "      <td>0.000</td>\n",
       "      <td>2022</td>\n",
       "      <td>0.000012</td>\n",
       "      <td>212</td>\n",
       "      <td>604</td>\n",
       "      <td>392</td>\n",
       "    </tr>\n",
       "    <tr>\n",
       "      <th>12512</th>\n",
       "      <td>Trayvon Palmer</td>\n",
       "      <td>0.000</td>\n",
       "      <td>2022</td>\n",
       "      <td>0.000012</td>\n",
       "      <td>605</td>\n",
       "      <td>605</td>\n",
       "      <td>0</td>\n",
       "    </tr>\n",
       "  </tbody>\n",
       "</table>\n",
       "<p>12728 rows × 7 columns</p>\n",
       "</div>"
      ],
      "text/plain": [
       "                    Player  Share pc  Year  predictions1  Predicted_Rk   Rk  \\\n",
       "Column1                                                                       \n",
       "10962       Michael Jordan     0.986  1996      0.718437             1    1   \n",
       "10261       David Robinson     0.508  1996      0.637850             2    2   \n",
       "7645     Anfernee Hardaway     0.319  1996      0.295462             4    3   \n",
       "5197       Hakeem Olajuwon     0.211  1996      0.114212             7    4   \n",
       "10965       Scottie Pippen     0.200  1996      0.136036             5    5   \n",
       "...                    ...       ...   ...           ...           ...  ...   \n",
       "8316             Raul Neto     0.000  2022      0.000012           209  601   \n",
       "8315            Kyle Kuzma     0.000  2022      0.000012           210  602   \n",
       "12508         Micah Potter     0.000  2022      0.000012           211  603   \n",
       "12509      Rodney McGruder     0.000  2022      0.000012           212  604   \n",
       "12512       Trayvon Palmer     0.000  2022      0.000012           605  605   \n",
       "\n",
       "         Diff  \n",
       "Column1        \n",
       "10962       0  \n",
       "10261       0  \n",
       "7645       -1  \n",
       "5197       -3  \n",
       "10965       0  \n",
       "...       ...  \n",
       "8316      392  \n",
       "8315      392  \n",
       "12508     392  \n",
       "12509     392  \n",
       "12512       0  \n",
       "\n",
       "[12728 rows x 7 columns]"
      ]
     },
     "execution_count": 70,
     "metadata": {},
     "output_type": "execute_result"
    }
   ],
   "source": [
    "all_predictions_rf_4"
   ]
  },
  {
   "cell_type": "code",
   "execution_count": 71,
   "id": "78a52801-99bc-40b0-a03e-f1c52b2b4c38",
   "metadata": {},
   "outputs": [],
   "source": [
    "#Split Dataset\n",
    "years_2005 = list(range(1991,2005))\n",
    "years_2022 = list(range(2006,2023))\n",
    "stats_2005 = stats[stats[\"Year\"] < 2006]\n",
    "stats_2022 = stats[stats[\"Year\"] > 2005]"
   ]
  },
  {
   "cell_type": "code",
   "execution_count": 72,
   "id": "de5d66ad-8144-4b49-908a-f5085d36ef11",
   "metadata": {},
   "outputs": [
    {
     "data": {
      "text/html": [
       "<div>\n",
       "<style scoped>\n",
       "    .dataframe tbody tr th:only-of-type {\n",
       "        vertical-align: middle;\n",
       "    }\n",
       "\n",
       "    .dataframe tbody tr th {\n",
       "        vertical-align: top;\n",
       "    }\n",
       "\n",
       "    .dataframe thead th {\n",
       "        text-align: right;\n",
       "    }\n",
       "</style>\n",
       "<table border=\"1\" class=\"dataframe\">\n",
       "  <thead>\n",
       "    <tr style=\"text-align: right;\">\n",
       "      <th></th>\n",
       "      <th>Player</th>\n",
       "      <th>Pos</th>\n",
       "      <th>Age</th>\n",
       "      <th>Tm</th>\n",
       "      <th>G</th>\n",
       "      <th>GS</th>\n",
       "      <th>MP</th>\n",
       "      <th>FG</th>\n",
       "      <th>FGA</th>\n",
       "      <th>FG%</th>\n",
       "      <th>...</th>\n",
       "      <th>obpm</th>\n",
       "      <th>dbpm</th>\n",
       "      <th>bpm</th>\n",
       "      <th>vorp</th>\n",
       "      <th>mov</th>\n",
       "      <th>mov_adj</th>\n",
       "      <th>Level_of_Impact</th>\n",
       "      <th>Quality_of_Impact</th>\n",
       "      <th>Wins_Contribution</th>\n",
       "      <th>Total_Stats</th>\n",
       "    </tr>\n",
       "    <tr>\n",
       "      <th>Column1</th>\n",
       "      <th></th>\n",
       "      <th></th>\n",
       "      <th></th>\n",
       "      <th></th>\n",
       "      <th></th>\n",
       "      <th></th>\n",
       "      <th></th>\n",
       "      <th></th>\n",
       "      <th></th>\n",
       "      <th></th>\n",
       "      <th></th>\n",
       "      <th></th>\n",
       "      <th></th>\n",
       "      <th></th>\n",
       "      <th></th>\n",
       "      <th></th>\n",
       "      <th></th>\n",
       "      <th></th>\n",
       "      <th></th>\n",
       "      <th></th>\n",
       "      <th></th>\n",
       "    </tr>\n",
       "  </thead>\n",
       "  <tbody>\n",
       "    <tr>\n",
       "      <th>641</th>\n",
       "      <td>Nikola Jokić</td>\n",
       "      <td>C</td>\n",
       "      <td>25</td>\n",
       "      <td>DEN</td>\n",
       "      <td>72</td>\n",
       "      <td>72</td>\n",
       "      <td>34.6</td>\n",
       "      <td>10.2</td>\n",
       "      <td>18.0</td>\n",
       "      <td>0.566</td>\n",
       "      <td>...</td>\n",
       "      <td>9.1</td>\n",
       "      <td>3.0</td>\n",
       "      <td>12.1</td>\n",
       "      <td>8.8</td>\n",
       "      <td>4.93</td>\n",
       "      <td>4.82</td>\n",
       "      <td>8.805278</td>\n",
       "      <td>16.02</td>\n",
       "      <td>141.060554</td>\n",
       "      <td>113.531904</td>\n",
       "    </tr>\n",
       "    <tr>\n",
       "      <th>663</th>\n",
       "      <td>Nikola Jokić</td>\n",
       "      <td>C</td>\n",
       "      <td>26</td>\n",
       "      <td>DEN</td>\n",
       "      <td>74</td>\n",
       "      <td>74</td>\n",
       "      <td>33.5</td>\n",
       "      <td>10.3</td>\n",
       "      <td>17.7</td>\n",
       "      <td>0.583</td>\n",
       "      <td>...</td>\n",
       "      <td>9.2</td>\n",
       "      <td>4.5</td>\n",
       "      <td>13.7</td>\n",
       "      <td>9.8</td>\n",
       "      <td>2.30</td>\n",
       "      <td>2.16</td>\n",
       "      <td>9.643915</td>\n",
       "      <td>16.56</td>\n",
       "      <td>159.703226</td>\n",
       "      <td>130.160376</td>\n",
       "    </tr>\n",
       "    <tr>\n",
       "      <th>929</th>\n",
       "      <td>James Harden</td>\n",
       "      <td>SG</td>\n",
       "      <td>28</td>\n",
       "      <td>HOU</td>\n",
       "      <td>72</td>\n",
       "      <td>72</td>\n",
       "      <td>35.4</td>\n",
       "      <td>9.0</td>\n",
       "      <td>20.1</td>\n",
       "      <td>0.449</td>\n",
       "      <td>...</td>\n",
       "      <td>8.5</td>\n",
       "      <td>1.4</td>\n",
       "      <td>9.9</td>\n",
       "      <td>7.7</td>\n",
       "      <td>8.48</td>\n",
       "      <td>8.21</td>\n",
       "      <td>15.195018</td>\n",
       "      <td>15.20</td>\n",
       "      <td>230.964278</td>\n",
       "      <td>102.463488</td>\n",
       "    </tr>\n",
       "    <tr>\n",
       "      <th>5438</th>\n",
       "      <td>Steve Nash</td>\n",
       "      <td>PG</td>\n",
       "      <td>31</td>\n",
       "      <td>PHO</td>\n",
       "      <td>79</td>\n",
       "      <td>79</td>\n",
       "      <td>35.4</td>\n",
       "      <td>6.8</td>\n",
       "      <td>13.4</td>\n",
       "      <td>0.512</td>\n",
       "      <td>...</td>\n",
       "      <td>5.7</td>\n",
       "      <td>-0.7</td>\n",
       "      <td>5.0</td>\n",
       "      <td>4.9</td>\n",
       "      <td>5.55</td>\n",
       "      <td>5.48</td>\n",
       "      <td>8.939741</td>\n",
       "      <td>11.58</td>\n",
       "      <td>103.522203</td>\n",
       "      <td>88.959056</td>\n",
       "    </tr>\n",
       "    <tr>\n",
       "      <th>5787</th>\n",
       "      <td>LeBron James</td>\n",
       "      <td>SF</td>\n",
       "      <td>24</td>\n",
       "      <td>CLE</td>\n",
       "      <td>81</td>\n",
       "      <td>81</td>\n",
       "      <td>37.7</td>\n",
       "      <td>9.7</td>\n",
       "      <td>19.9</td>\n",
       "      <td>0.489</td>\n",
       "      <td>...</td>\n",
       "      <td>9.5</td>\n",
       "      <td>3.7</td>\n",
       "      <td>13.2</td>\n",
       "      <td>11.8</td>\n",
       "      <td>8.93</td>\n",
       "      <td>8.68</td>\n",
       "      <td>17.307403</td>\n",
       "      <td>19.18</td>\n",
       "      <td>331.955996</td>\n",
       "      <td>121.870656</td>\n",
       "    </tr>\n",
       "  </tbody>\n",
       "</table>\n",
       "<p>5 rows × 68 columns</p>\n",
       "</div>"
      ],
      "text/plain": [
       "               Player Pos  Age   Tm   G  GS    MP    FG   FGA    FG%  ...  \\\n",
       "Column1                                                               ...   \n",
       "641      Nikola Jokić   C   25  DEN  72  72  34.6  10.2  18.0  0.566  ...   \n",
       "663      Nikola Jokić   C   26  DEN  74  74  33.5  10.3  17.7  0.583  ...   \n",
       "929      James Harden  SG   28  HOU  72  72  35.4   9.0  20.1  0.449  ...   \n",
       "5438       Steve Nash  PG   31  PHO  79  79  35.4   6.8  13.4  0.512  ...   \n",
       "5787     LeBron James  SF   24  CLE  81  81  37.7   9.7  19.9  0.489  ...   \n",
       "\n",
       "         obpm  dbpm   bpm  vorp   mov  mov_adj  Level_of_Impact  \\\n",
       "Column1                                                           \n",
       "641       9.1   3.0  12.1   8.8  4.93     4.82         8.805278   \n",
       "663       9.2   4.5  13.7   9.8  2.30     2.16         9.643915   \n",
       "929       8.5   1.4   9.9   7.7  8.48     8.21        15.195018   \n",
       "5438      5.7  -0.7   5.0   4.9  5.55     5.48         8.939741   \n",
       "5787      9.5   3.7  13.2  11.8  8.93     8.68        17.307403   \n",
       "\n",
       "         Quality_of_Impact  Wins_Contribution  Total_Stats  \n",
       "Column1                                                     \n",
       "641                  16.02         141.060554   113.531904  \n",
       "663                  16.56         159.703226   130.160376  \n",
       "929                  15.20         230.964278   102.463488  \n",
       "5438                 11.58         103.522203    88.959056  \n",
       "5787                 19.18         331.955996   121.870656  \n",
       "\n",
       "[5 rows x 68 columns]"
      ]
     },
     "execution_count": 72,
     "metadata": {},
     "output_type": "execute_result"
    }
   ],
   "source": [
    "stats_2022.head()"
   ]
  },
  {
   "cell_type": "code",
   "execution_count": 73,
   "id": "70622714-0c5b-4ad9-9028-e0d81113fbf6",
   "metadata": {},
   "outputs": [
    {
     "data": {
      "text/plain": [
       "array([2021, 2022, 2018, 2006, 2009, 2010, 2016, 2015, 2014, 2017, 2008,\n",
       "       2007, 2019, 2011, 2020, 2013, 2012], dtype=int64)"
      ]
     },
     "execution_count": 73,
     "metadata": {},
     "output_type": "execute_result"
    }
   ],
   "source": [
    "stats_2022.Year.unique()"
   ]
  },
  {
   "cell_type": "code",
   "execution_count": null,
   "id": "fdc6dd5f-ba60-4d71-9cb3-7fdb96aadfe3",
   "metadata": {},
   "outputs": [],
   "source": []
  },
  {
   "cell_type": "code",
   "execution_count": 74,
   "id": "2662ea08-2b61-4cf1-a1d7-edff0dcb7f28",
   "metadata": {},
   "outputs": [],
   "source": [
    "master_table_mi_2005 = stats_2005.copy()\n",
    "master_table_mi_2022 = stats_2022.copy()"
   ]
  },
  {
   "cell_type": "code",
   "execution_count": 75,
   "id": "98248978-eb49-453e-a32a-afeffb82904e",
   "metadata": {},
   "outputs": [],
   "source": [
    "master_table_mi_2005.drop(to_drop_mi, axis=1, inplace=True)\n",
    "master_table_mi_2022.drop(to_drop_mi, axis=1, inplace=True)"
   ]
  },
  {
   "cell_type": "code",
   "execution_count": 76,
   "id": "5dc36c94-ee2c-43f0-aef2-9cf36a2200c5",
   "metadata": {},
   "outputs": [],
   "source": [
    "predictors4 = [\"Wins_Contribution\",\"Quality_of_Impact\",\"per\",\"Level_of_Impact\" ,\"vorp\",\"Total_Stats\",\"ws\",\"FG\",\"PTS\",\"TOV\"]"
   ]
  },
  {
   "cell_type": "code",
   "execution_count": 77,
   "id": "2179ab80-158f-482d-9697-1bd500190699",
   "metadata": {},
   "outputs": [
    {
     "data": {
      "text/plain": [
       "(6371, 10)"
      ]
     },
     "execution_count": 77,
     "metadata": {},
     "output_type": "execute_result"
    }
   ],
   "source": [
    "stats_2005[predictors4].shape"
   ]
  },
  {
   "cell_type": "code",
   "execution_count": 78,
   "id": "dbfbcdf9-9175-4614-8b1c-e6b818d3d043",
   "metadata": {},
   "outputs": [
    {
     "data": {
      "text/plain": [
       "(8326, 10)"
      ]
     },
     "execution_count": 78,
     "metadata": {},
     "output_type": "execute_result"
    }
   ],
   "source": [
    "stats_2022[predictors4].shape"
   ]
  },
  {
   "cell_type": "code",
   "execution_count": 79,
   "id": "626e232e-4257-4a7a-8cfa-fb9c0eaa950d",
   "metadata": {},
   "outputs": [
    {
     "data": {
      "image/png": "[encoded data removed]",
      "text/plain": [
       "<Figure size 1440x1440 with 1 Axes>"
      ]
     },
     "metadata": {
      "needs_background": "light"
     },
     "output_type": "display_data"
    }
   ],
   "source": [
    "X, y, mi_scores = calculate_ml_scores(df=master_table_mi_2005)\n",
    "plot_mi_scores(mi_scores, figsize=(20,20))"
   ]
  },
  {
   "cell_type": "code",
   "execution_count": 80,
   "id": "d28edc93-424c-4166-988b-ae5c3029992f",
   "metadata": {},
   "outputs": [
    {
     "data": {
      "image/png": "[encoded data removed]",
      "text/plain": [
       "<Figure size 1440x1440 with 1 Axes>"
      ]
     },
     "metadata": {
      "needs_background": "light"
     },
     "output_type": "display_data"
    }
   ],
   "source": [
    "X, y, mi_scores = calculate_ml_scores(df=master_table_mi_2022)\n",
    "plot_mi_scores(mi_scores, figsize=(20,20))"
   ]
  },
  {
   "cell_type": "code",
   "execution_count": null,
   "id": "7b3bf18d-2111-4006-92a9-b7f501cbf877",
   "metadata": {},
   "outputs": [],
   "source": []
  },
  {
   "cell_type": "code",
   "execution_count": 67,
   "id": "206a5fbb-29d3-4b83-bd53-bc02238cba67",
   "metadata": {},
   "outputs": [],
   "source": [
    "predictors5 = [\"Wins_Contribution\",\"vorp\",\"Quality_of_Impact\",\"bpm\",\"ows\",\"per\",\"Level_of_Impact\",\"PTS\",\"Total_Stats\",\"ws\"]"
   ]
  },
  {
   "cell_type": "code",
   "execution_count": 68,
   "id": "b274e3e0-9dee-49d6-abbd-1aa96a57491c",
   "metadata": {},
   "outputs": [],
   "source": [
    "mean_ap_ridge_5, aps_ridge_5, all_predictions_ridge_5 = backtest(stats_2005, reg, years_2005[5:], predictors4)\n",
    "mean_ap_rf_5, aps_rf_5, all_predictions_rf_5 = backtest(stats_2005, rf2, years_2005[5:], predictors4)\n",
    "mean_ap_lr_5, aps_lr_5, all_predictions_lr_5 = backtest(stats_2005, lr, years_2005[5:], predictors4)"
   ]
  },
  {
   "cell_type": "code",
   "execution_count": 69,
   "id": "83127ed4-31c5-4da6-97d8-7af619521f77",
   "metadata": {},
   "outputs": [],
   "source": [
    "mean_ap_ridge_6, aps_ridge_6, all_predictions_ridge_6 = backtest(stats_2022, reg, years_2022[5:], predictors5)\n",
    "mean_ap_rf_6, aps_rf_6, all_predictions_rf_6 = backtest(stats_2022, rf2, years_2022[5:], predictors5)\n",
    "mean_ap_lr_6, aps_lr_6, all_predictions_lr_6 = backtest(stats_2022, lr, years_2022[5:], predictors5)"
   ]
  },
  {
   "cell_type": "code",
   "execution_count": 70,
   "id": "ba57255f-5be8-4143-839a-c641817d9572",
   "metadata": {},
   "outputs": [
    {
     "data": {
      "text/plain": [
       "(0.7720433364864117, 0.7895959124390496, 0.7720433364864117)"
      ]
     },
     "execution_count": 70,
     "metadata": {},
     "output_type": "execute_result"
    }
   ],
   "source": [
    "mean_ap_ridge_5,mean_ap_rf_5,mean_ap_lr_5"
   ]
  },
  {
   "cell_type": "code",
   "execution_count": 71,
   "id": "ce9f1223-157a-45dc-820e-5d4bccc70b06",
   "metadata": {},
   "outputs": [
    {
     "data": {
      "text/plain": [
       "(0.8483796296296297, 0.833093156843157, 0.8483796296296297)"
      ]
     },
     "execution_count": 71,
     "metadata": {},
     "output_type": "execute_result"
    }
   ],
   "source": [
    "mean_ap_ridge_6,mean_ap_rf_6,mean_ap_lr_6"
   ]
  },
  {
   "cell_type": "code",
   "execution_count": 72,
   "id": "7d0a7f46-e97f-48d3-abcc-a952143bf8c2",
   "metadata": {},
   "outputs": [
    {
     "data": {
      "text/plain": [
       "(0.0015987030251455386, 0.0010682782289494624)"
      ]
     },
     "execution_count": 72,
     "metadata": {},
     "output_type": "execute_result"
    }
   ],
   "source": [
    "mean_squared_error(all_predictions_ridge_4[\"Share pc\"], all_predictions_ridge_4[\"predictions1\"]),mean_squared_error(all_predictions_rf_4[\"Share pc\"], all_predictions_rf_4[\"predictions1\"])"
   ]
  },
  {
   "cell_type": "code",
   "execution_count": 73,
   "id": "886bde73-6dd7-439d-9da0-a0c174181145",
   "metadata": {},
   "outputs": [
    {
     "data": {
      "text/plain": [
       "(0.015553522674338807, 0.004042141207317859)"
      ]
     },
     "execution_count": 73,
     "metadata": {},
     "output_type": "execute_result"
    }
   ],
   "source": [
    "mean_absolute_error(all_predictions_ridge_4[\"Share pc\"], all_predictions_ridge_4[\"predictions1\"]),mean_absolute_error(all_predictions_rf_4[\"Share pc\"], all_predictions_rf_4[\"predictions1\"])"
   ]
  },
  {
   "cell_type": "code",
   "execution_count": 74,
   "id": "f428d922-732b-4ccc-954d-1326ddbea333",
   "metadata": {},
   "outputs": [
    {
     "data": {
      "text/plain": [
       "(0.017507841485277655, 0.0040457192307833114, 0.017510657329274915)"
      ]
     },
     "execution_count": 74,
     "metadata": {},
     "output_type": "execute_result"
    }
   ],
   "source": [
    "mean_absolute_error(all_predictions_ridge_5[\"Share pc\"], all_predictions_ridge_5[\"predictions1\"]),mean_absolute_error(all_predictions_rf_5[\"Share pc\"], all_predictions_rf_5[\"predictions1\"]),mean_absolute_error(all_predictions_lr_5[\"Share pc\"], all_predictions_lr_5[\"predictions1\"])"
   ]
  },
  {
   "cell_type": "code",
   "execution_count": 75,
   "id": "de03b146-8702-47d4-86e4-70754773e085",
   "metadata": {},
   "outputs": [
    {
     "data": {
      "text/plain": [
       "(0.014918102655803131, 0.003403656000321948, 0.01492030387127354)"
      ]
     },
     "execution_count": 75,
     "metadata": {},
     "output_type": "execute_result"
    }
   ],
   "source": [
    "mean_absolute_error(all_predictions_ridge_6[\"Share pc\"], all_predictions_ridge_6[\"predictions1\"]),mean_absolute_error(all_predictions_rf_6[\"Share pc\"], all_predictions_rf_6[\"predictions1\"]),mean_absolute_error(all_predictions_lr_6[\"Share pc\"], all_predictions_lr_6[\"predictions1\"])"
   ]
  },
  {
   "cell_type": "code",
   "execution_count": 76,
   "id": "97b2192e-013e-4721-a3d0-ccc59b517607",
   "metadata": {},
   "outputs": [
    {
     "data": {
      "text/plain": [
       "(0.0016192593172040023, 0.0011247561138759414, 0.0016192714444493836)"
      ]
     },
     "execution_count": 76,
     "metadata": {},
     "output_type": "execute_result"
    }
   ],
   "source": [
    "mean_squared_error(all_predictions_ridge_5[\"Share pc\"], all_predictions_ridge_5[\"predictions1\"]),mean_squared_error(all_predictions_rf_5[\"Share pc\"], all_predictions_rf_5[\"predictions1\"]),mean_squared_error(all_predictions_lr_5[\"Share pc\"], all_predictions_lr_5[\"predictions1\"])"
   ]
  },
  {
   "cell_type": "code",
   "execution_count": 77,
   "id": "ab69e102-b401-4329-8121-5e6352e5883c",
   "metadata": {},
   "outputs": [
    {
     "data": {
      "text/plain": [
       "(0.0015688119736823349, 0.0009117179693387654, 0.0015689018299482602)"
      ]
     },
     "execution_count": 77,
     "metadata": {},
     "output_type": "execute_result"
    }
   ],
   "source": [
    "mean_squared_error(all_predictions_ridge_6[\"Share pc\"], all_predictions_ridge_6[\"predictions1\"]),mean_squared_error(all_predictions_rf_6[\"Share pc\"], all_predictions_rf_6[\"predictions1\"]),mean_squared_error(all_predictions_lr_6[\"Share pc\"], all_predictions_lr_6[\"predictions1\"])"
   ]
  },
  {
   "cell_type": "code",
   "execution_count": 78,
   "id": "6f3accd8-afd8-4dc9-abf8-be9cef91d543",
   "metadata": {},
   "outputs": [],
   "source": [
    "all_predictions_ridge_4.to_csv(\"all_predictions_ridge_4.csv\")\n",
    "all_predictions_rf_4.to_csv(\"all_predictions_rf_4.csv\")\n",
    "all_predictions_ridge_5.to_csv(\"all_predictions_ridge_5.csv\")\n",
    "all_predictions_rf_5.to_csv(\"all_predictions_rf_5.csv\")\n",
    "all_predictions_lr_5.to_csv(\"all_predictions_lr_5.csv\")\n",
    "all_predictions_ridge_6.to_csv(\"all_predictions_ridge_6.csv\")\n",
    "all_predictions_rf_6.to_csv(\"all_predictions_rf_6.csv\")\n",
    "all_predictions_lr_6.to_csv(\"all_predictions_lr_6.csv\")"
   ]
  },
  {
   "cell_type": "code",
   "execution_count": 79,
   "id": "86c37ad4-7292-41a9-8c04-bc753d75610a",
   "metadata": {},
   "outputs": [
    {
     "data": {
      "text/html": [
       "<div>\n",
       "<style scoped>\n",
       "    .dataframe tbody tr th:only-of-type {\n",
       "        vertical-align: middle;\n",
       "    }\n",
       "\n",
       "    .dataframe tbody tr th {\n",
       "        vertical-align: top;\n",
       "    }\n",
       "\n",
       "    .dataframe thead th {\n",
       "        text-align: right;\n",
       "    }\n",
       "</style>\n",
       "<table border=\"1\" class=\"dataframe\">\n",
       "  <thead>\n",
       "    <tr style=\"text-align: right;\">\n",
       "      <th></th>\n",
       "      <th>Player</th>\n",
       "      <th>Share pc</th>\n",
       "      <th>Year</th>\n",
       "      <th>predictions1</th>\n",
       "      <th>Predicted_Rk</th>\n",
       "      <th>Rk</th>\n",
       "      <th>Diff</th>\n",
       "    </tr>\n",
       "    <tr>\n",
       "      <th>Column1</th>\n",
       "      <th></th>\n",
       "      <th></th>\n",
       "      <th></th>\n",
       "      <th></th>\n",
       "      <th></th>\n",
       "      <th></th>\n",
       "      <th></th>\n",
       "    </tr>\n",
       "  </thead>\n",
       "  <tbody>\n",
       "    <tr>\n",
       "      <th>12785</th>\n",
       "      <td>Derrick Rose</td>\n",
       "      <td>0.977</td>\n",
       "      <td>2011</td>\n",
       "      <td>0.327065</td>\n",
       "      <td>2</td>\n",
       "      <td>1</td>\n",
       "      <td>-1</td>\n",
       "    </tr>\n",
       "    <tr>\n",
       "      <th>12193</th>\n",
       "      <td>Dwight Howard</td>\n",
       "      <td>0.531</td>\n",
       "      <td>2011</td>\n",
       "      <td>0.223999</td>\n",
       "      <td>5</td>\n",
       "      <td>2</td>\n",
       "      <td>-3</td>\n",
       "    </tr>\n",
       "    <tr>\n",
       "      <th>13614</th>\n",
       "      <td>LeBron James</td>\n",
       "      <td>0.431</td>\n",
       "      <td>2011</td>\n",
       "      <td>0.391127</td>\n",
       "      <td>1</td>\n",
       "      <td>3</td>\n",
       "      <td>2</td>\n",
       "    </tr>\n",
       "    <tr>\n",
       "      <th>7023</th>\n",
       "      <td>Kobe Bryant</td>\n",
       "      <td>0.354</td>\n",
       "      <td>2011</td>\n",
       "      <td>0.222815</td>\n",
       "      <td>6</td>\n",
       "      <td>4</td>\n",
       "      <td>-2</td>\n",
       "    </tr>\n",
       "    <tr>\n",
       "      <th>13133</th>\n",
       "      <td>Kevin Durant</td>\n",
       "      <td>0.157</td>\n",
       "      <td>2011</td>\n",
       "      <td>0.225580</td>\n",
       "      <td>4</td>\n",
       "      <td>5</td>\n",
       "      <td>1</td>\n",
       "    </tr>\n",
       "    <tr>\n",
       "      <th>...</th>\n",
       "      <td>...</td>\n",
       "      <td>...</td>\n",
       "      <td>...</td>\n",
       "      <td>...</td>\n",
       "      <td>...</td>\n",
       "      <td>...</td>\n",
       "      <td>...</td>\n",
       "    </tr>\n",
       "    <tr>\n",
       "      <th>2355</th>\n",
       "      <td>Ahmad Caver</td>\n",
       "      <td>0.000</td>\n",
       "      <td>2022</td>\n",
       "      <td>0.006423</td>\n",
       "      <td>209</td>\n",
       "      <td>601</td>\n",
       "      <td>392</td>\n",
       "    </tr>\n",
       "    <tr>\n",
       "      <th>10483</th>\n",
       "      <td>KZ Okpala</td>\n",
       "      <td>0.000</td>\n",
       "      <td>2022</td>\n",
       "      <td>0.006416</td>\n",
       "      <td>210</td>\n",
       "      <td>602</td>\n",
       "      <td>392</td>\n",
       "    </tr>\n",
       "    <tr>\n",
       "      <th>12280</th>\n",
       "      <td>Collin Sexton</td>\n",
       "      <td>0.000</td>\n",
       "      <td>2022</td>\n",
       "      <td>0.006407</td>\n",
       "      <td>211</td>\n",
       "      <td>603</td>\n",
       "      <td>392</td>\n",
       "    </tr>\n",
       "    <tr>\n",
       "      <th>11817</th>\n",
       "      <td>Skylar Mays</td>\n",
       "      <td>0.000</td>\n",
       "      <td>2022</td>\n",
       "      <td>0.006395</td>\n",
       "      <td>212</td>\n",
       "      <td>604</td>\n",
       "      <td>392</td>\n",
       "    </tr>\n",
       "    <tr>\n",
       "      <th>5597</th>\n",
       "      <td>Reggie Jackson</td>\n",
       "      <td>0.000</td>\n",
       "      <td>2022</td>\n",
       "      <td>-0.048252</td>\n",
       "      <td>605</td>\n",
       "      <td>605</td>\n",
       "      <td>0</td>\n",
       "    </tr>\n",
       "  </tbody>\n",
       "</table>\n",
       "<p>6075 rows × 7 columns</p>\n",
       "</div>"
      ],
      "text/plain": [
       "                 Player  Share pc  Year  predictions1  Predicted_Rk   Rk  Diff\n",
       "Column1                                                                       \n",
       "12785      Derrick Rose     0.977  2011      0.327065             2    1    -1\n",
       "12193     Dwight Howard     0.531  2011      0.223999             5    2    -3\n",
       "13614      LeBron James     0.431  2011      0.391127             1    3     2\n",
       "7023        Kobe Bryant     0.354  2011      0.222815             6    4    -2\n",
       "13133      Kevin Durant     0.157  2011      0.225580             4    5     1\n",
       "...                 ...       ...   ...           ...           ...  ...   ...\n",
       "2355        Ahmad Caver     0.000  2022      0.006423           209  601   392\n",
       "10483         KZ Okpala     0.000  2022      0.006416           210  602   392\n",
       "12280     Collin Sexton     0.000  2022      0.006407           211  603   392\n",
       "11817       Skylar Mays     0.000  2022      0.006395           212  604   392\n",
       "5597     Reggie Jackson     0.000  2022     -0.048252           605  605     0\n",
       "\n",
       "[6075 rows x 7 columns]"
      ]
     },
     "execution_count": 79,
     "metadata": {},
     "output_type": "execute_result"
    }
   ],
   "source": [
    "all_predictions_ridge_6\n"
   ]
  },
  {
   "cell_type": "code",
   "execution_count": 1,
   "id": "df31581a-93e0-4bf1-9747-6757c1bcfdf1",
   "metadata": {},
   "outputs": [
    {
     "ename": "NameError",
     "evalue": "name 'stats' is not defined",
     "output_type": "error",
     "traceback": [
      "\u001b[1;31m---------------------------------------------------------------------------\u001b[0m",
      "\u001b[1;31mNameError\u001b[0m                                 Traceback (most recent call last)",
      "Input \u001b[1;32mIn [1]\u001b[0m, in \u001b[0;36m<cell line: 1>\u001b[1;34m()\u001b[0m\n\u001b[1;32m----> 1\u001b[0m \u001b[43mstats\u001b[49m\u001b[38;5;241m.\u001b[39mcolumns\n",
      "\u001b[1;31mNameError\u001b[0m: name 'stats' is not defined"
     ]
    }
   ],
   "source": [
    "stats.columns"
   ]
  },
  {
   "cell_type": "code",
   "execution_count": null,
   "id": "1003e74f-cc39-4a79-abbb-abcb6e2029bb",
   "metadata": {},
   "outputs": [],
   "source": []
  }
 ],
 "metadata": {
  "kernelspec": {
   "display_name": "Python 3 (ipykernel)",
   "language": "python",
   "name": "python3"
  },
  "language_info": {
   "codemirror_mode": {
    "name": "ipython",
    "version": 3
   },
   "file_extension": ".py",
   "mimetype": "text/x-python",
   "name": "python",
   "nbconvert_exporter": "python",
   "pygments_lexer": "ipython3",
   "version": "3.9.12"
  }
 },
 "nbformat": 4,
 "nbformat_minor": 5
}
